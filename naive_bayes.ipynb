{
 "cells": [
  {
   "cell_type": "code",
   "execution_count": 1,
   "id": "b9bcb815-627c-425e-a255-40d759e5e369",
   "metadata": {},
   "outputs": [],
   "source": [
    "# Let's write the Python implementation first.\n",
    "from collections import defaultdict, Counter\n",
    "import math\n",
    "import random"
   ]
  },
  {
   "cell_type": "code",
   "execution_count": 3,
   "id": "7d19f9cf-d892-411e-ab62-0a04bac77382",
   "metadata": {},
   "outputs": [],
   "source": [
    "# 1. Sample dataset\n",
    "spam_messages = [\n",
    "    \"win money now\", \"limited offer\", \"exclusive deal\", \"free cash prize\", \"click here\",\n",
    "    \"you have won\", \"get rich fast\", \"claim your reward\", \"cheap loans available\", \"secret investment\",\n",
    "    \"make money easy\", \"fast income scheme\", \"work from home\", \"act now\", \"urgent response needed\",\n",
    "    \"earn more today\", \"double your income\", \"guaranteed results\", \"no risk win\", \"limited time offer\",\n",
    "    \"get money fast\", \"online cash rewards\", \"special promotion\", \"prize waiting for you\", \"you are selected\",\n",
    "    \"quick money deal\", \"lottery winner\", \"credit approved\", \"instant cash\", \"investment opportunity\",\n",
    "    \"low interest loan\", \"extra income now\", \"win iphone today\", \"click to earn\", \"free gift card\",\n",
    "    \"cash bonus offer\", \"get paid daily\", \"hot stock tip\", \"easy win system\", \"make $ fast\",\n",
    "    \"reply to win\", \"100% free\", \"exclusive access\", \"start earning\", \"money miracle\",\n",
    "    \"risk-free cash\", \"receive your prize\", \"unclaimed rewards\", \"free entry\", \"get started now\"\n",
    "]\n",
    "\n",
    "not_spam_messages = [\n",
    "    \"let's meet tomorrow\", \"project deadline is near\", \"team lunch today\", \"see you at the meeting\", \"send the report\",\n",
    "    \"doctor appointment\", \"family dinner tonight\", \"happy birthday\", \"congrats on your promotion\", \"call me later\",\n",
    "    \"movie night plans\", \"assignment due next week\", \"travel itinerary confirmed\", \"your ticket is booked\", \"let's discuss later\",\n",
    "    \"grocery shopping list\", \"meeting postponed\", \"check your email\", \"update your resume\", \"teamwork matters\",\n",
    "    \"client meeting scheduled\", \"lunch with friend\", \"read the article\", \"presentation on monday\", \"team feedback\",\n",
    "    \"join zoom call\", \"weekly sync\", \"office party\", \"weather update\", \"gym session\",\n",
    "    \"submit the task\", \"library visit\", \"weekend plans\", \"book club event\", \"birthday gift ideas\",\n",
    "    \"visit grandma\", \"schedule call\", \"budget meeting\", \"laundry day\", \"check your schedule\",\n",
    "    \"study session\", \"reply to email\", \"assignment discussion\", \"coffee at noon\", \"class notes shared\",\n",
    "    \"your marks updated\", \"workshop registration\", \"plan your day\", \"return the book\", \"clean your desk\"\n",
    "]"
   ]
  },
  {
   "cell_type": "code",
   "execution_count": 5,
   "id": "1350b060-514d-4d79-bf9c-76c3a974605b",
   "metadata": {},
   "outputs": [],
   "source": [
    "# Combine dataset with labels\n",
    "dataset = [(msg, 'spam') for msg in spam_messages] + [(msg, 'not_spam') for msg in not_spam_messages]\n",
    "random.shuffle(dataset)"
   ]
  },
  {
   "cell_type": "code",
   "execution_count": 7,
   "id": "66dbb584-e301-4852-8350-ba9eb1f816a7",
   "metadata": {},
   "outputs": [],
   "source": [
    "# 2. Preprocessing\n",
    "def tokenize(message):\n",
    "    return message.lower().split()\n",
    "\n",
    "# 3. Train Naive Bayes from scratch\n",
    "class NaiveBayesClassifier:\n",
    "    def __init__(self):\n",
    "        self.class_word_counts = defaultdict(Counter)\n",
    "        self.class_counts = Counter()\n",
    "        self.vocabulary = set()\n",
    "        self.total_words_per_class = defaultdict(int)\n",
    "\n",
    "    def train(self, dataset):\n",
    "        for message, label in dataset:\n",
    "            tokens = tokenize(message)\n",
    "            self.class_counts[label] += 1\n",
    "            for token in tokens:\n",
    "                self.class_word_counts[label][token] += 1\n",
    "                self.vocabulary.add(token)\n",
    "                self.total_words_per_class[label] += 1\n",
    "\n",
    "    def predict(self, message):\n",
    "        tokens = tokenize(message)\n",
    "        vocab_size = len(self.vocabulary)\n",
    "        class_scores = {}\n",
    "        total_messages = sum(self.class_counts.values())\n",
    "\n",
    "        for label in self.class_counts:\n",
    "            log_prob = math.log(self.class_counts[label] / total_messages)\n",
    "            for token in tokens:\n",
    "                word_freq = self.class_word_counts[label][token]\n",
    "                word_prob = (word_freq + 1) / (self.total_words_per_class[label] + vocab_size)\n",
    "                log_prob += math.log(word_prob)\n",
    "            class_scores[label] = log_prob\n",
    "\n",
    "        return max(class_scores, key=class_scores.get)\n"
   ]
  },
  {
   "cell_type": "code",
   "execution_count": 9,
   "id": "b68cc0fb-cfa9-45db-96a4-5d6f4fd9d222",
   "metadata": {},
   "outputs": [],
   "source": [
    "# 4. Train and test\n",
    "classifier = NaiveBayesClassifier()\n",
    "classifier.train(dataset)"
   ]
  },
  {
   "cell_type": "code",
   "execution_count": 11,
   "id": "b1533e11-1808-442c-8540-a8221f2e2ca9",
   "metadata": {},
   "outputs": [
    {
     "data": {
      "text/plain": [
       "'spam'"
      ]
     },
     "execution_count": 11,
     "metadata": {},
     "output_type": "execute_result"
    }
   ],
   "source": [
    "\n",
    "# 5. Test\n",
    "test_msg = \"win cash prize now\"\n",
    "prediction = classifier.predict(test_msg)\n",
    "prediction"
   ]
  },
  {
   "cell_type": "code",
   "execution_count": null,
   "id": "858f7ce1-e7dc-4709-b04b-6aabf79b4861",
   "metadata": {},
   "outputs": [],
   "source": []
  }
 ],
 "metadata": {
  "kernelspec": {
   "display_name": "Python 3 (ipykernel)",
   "language": "python",
   "name": "python3"
  },
  "language_info": {
   "codemirror_mode": {
    "name": "ipython",
    "version": 3
   },
   "file_extension": ".py",
   "mimetype": "text/x-python",
   "name": "python",
   "nbconvert_exporter": "python",
   "pygments_lexer": "ipython3",
   "version": "3.12.3"
  }
 },
 "nbformat": 4,
 "nbformat_minor": 5
}
